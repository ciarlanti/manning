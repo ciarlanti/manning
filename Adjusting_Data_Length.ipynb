{
 "cells": [
  {
   "cell_type": "markdown",
   "id": "e2212501",
   "metadata": {
    "toc": true
   },
   "source": [
    "<h1>Table of Contents<span class=\"tocSkip\"></span></h1>\n",
    "<div class=\"toc\"><ul class=\"toc-item\"></ul></div>"
   ]
  },
  {
   "cell_type": "code",
   "execution_count": 1,
   "id": "331cef13",
   "metadata": {},
   "outputs": [],
   "source": [
    "from __future__ import absolute_import, division, print_function\n",
    "import os\n",
    "import numpy as np\n",
    "import matplotlib.pyplot as plt\n",
    "import tensorflow as tf"
   ]
  },
  {
   "cell_type": "code",
   "execution_count": 2,
   "id": "9d50e6aa",
   "metadata": {},
   "outputs": [],
   "source": [
    "(x_train, y_train), (x_test, y_test) = tf.keras.datasets.imdb.load_data(\n",
    "    path='imdb.npz',\n",
    "    num_words=None,\n",
    "    skip_top=0,\n",
    "    maxlen=None,\n",
    "    seed=113,\n",
    "    start_char=1,\n",
    "    oov_char=2,\n",
    "    index_from=3\n",
    ")"
   ]
  },
  {
   "cell_type": "code",
   "execution_count": 3,
   "id": "121e7f73",
   "metadata": {},
   "outputs": [],
   "source": [
    "unique, counts = np.unique(y_train, return_counts=True)\n",
    "positive_sample_count = counts[1]"
   ]
  },
  {
   "cell_type": "markdown",
   "id": "ab5d146e",
   "metadata": {},
   "source": [
    "Following is all the  already done part from milestone 2"
   ]
  },
  {
   "cell_type": "code",
   "execution_count": 4,
   "id": "18f2b98b",
   "metadata": {},
   "outputs": [
    {
     "data": {
      "text/plain": [
       "array([list([1, 12, 16, 576, 364, 352, 12, 49, 139, 12, 272, 40, 36, 4148, 19, 6, 344, 374, 14996, 190, 12, 127, 28, 6, 52, 114, 347, 5, 94, 776, 8, 794, 709, 153, 103, 1205, 41, 3375, 4595, 1491, 336, 4431, 9, 626, 39, 4, 9368, 3689, 19, 4, 339, 7, 41, 1042, 37, 59, 9, 4549, 260, 35, 1586, 19, 4, 1042, 630, 56, 2753, 41, 6, 313, 5, 2644, 41, 6, 519, 21, 746, 4, 86, 891, 234, 7, 4, 20, 4431, 1098, 90, 5, 18274, 90, 11, 41, 9127, 95, 59, 24965, 41, 3608, 745, 732, 523, 23, 90, 5, 3003, 33, 164, 366, 59, 47, 90, 59, 1421, 1356, 21, 103, 160, 3608, 6244, 659, 46, 15, 4431, 556, 15, 1042, 5, 3367, 8, 516, 4865, 322, 6555, 14, 9, 103, 4431, 5, 90, 79, 12, 23, 11, 4, 893, 11394, 95, 59, 3003, 116, 38, 1356, 5, 1098, 6244, 5, 303, 23, 1027, 8, 516, 745, 937, 59, 1505, 1388, 5, 2263, 18, 5, 490, 28, 8, 851, 4, 20, 8, 169, 46, 48, 4431, 1442, 42, 24, 444, 52, 20, 1791, 72, 6, 176, 7, 61, 113, 25, 124, 4, 226, 1454, 18, 4, 3608, 5, 5564, 33, 164, 366, 25, 28, 90, 173]),\n",
       "       list([1, 13, 81, 24, 264, 32, 4, 2822, 18, 14, 20, 4, 297, 5, 20, 71, 6, 7665, 7, 9057, 488, 2705, 3085, 29, 71, 4745, 5, 5983, 3085, 29, 71, 2705, 2705, 60, 69, 4, 6365, 8, 81, 6, 1034, 7, 9057, 19, 7403, 1164, 395, 27, 204, 173, 7403, 1164, 25, 384, 4, 31, 15, 122, 4, 1034, 7, 28868, 10, 10, 14, 20, 16, 93, 315, 6, 810, 7, 11802, 611, 54, 12, 16, 578, 29, 887, 8, 990, 125, 5470, 11813, 29, 62, 81, 233, 18, 278, 29, 62, 323, 11, 141, 1344, 1576, 102, 141, 17, 14, 5, 724, 4, 35904, 1154, 51, 186, 8, 30, 1953, 4, 2822, 18, 14, 20, 9, 5983, 341, 29, 1015, 128, 74, 8, 30, 2032, 18, 14, 2320, 20, 5, 38, 127, 2705, 14, 20, 70, 30, 258, 11, 4, 457, 13377, 3979, 33, 14845, 367, 19, 5786, 40, 4, 1111, 5, 1821, 12, 23, 16081]),\n",
       "       list([1, 280, 11, 6, 137, 25, 79, 2664, 120, 89, 78, 6, 22, 70, 30, 5, 89, 11, 4, 182, 1814, 100, 2988, 278, 8, 97, 14, 243, 7, 595, 50, 9, 427, 57, 676, 1926, 11, 14, 22, 39, 6, 2136, 229, 8, 6, 2136, 65, 8, 2136, 116, 480]),\n",
       "       ...,\n",
       "       list([1, 14, 22, 166, 298, 3274, 6, 3495, 20, 57, 1037, 931, 887, 486, 9, 706, 3963, 26, 379, 5, 4, 177, 9, 2094, 175, 1591, 9, 343, 450, 211, 209, 101, 204, 1009, 5, 230, 4, 249, 4, 20, 505, 46, 8, 30, 53, 3098, 74, 4, 10303, 45, 38, 619]),\n",
       "       list([1, 4, 1165, 1279, 503, 20, 524, 47, 160, 227, 173, 17, 705, 11956, 323, 1538, 23343, 980, 11, 14, 953, 1052, 2165, 59, 299, 5103, 47, 64, 31, 347, 7, 807, 73, 31, 681, 7, 807, 165, 59, 9727, 46, 914, 17, 15286, 109, 9, 19494, 338, 8748, 15883, 19, 6, 3161, 4056, 14803, 38892, 14, 20, 9, 38, 78, 151, 12, 461, 163, 642, 33, 211, 4, 493, 33, 736, 1067, 750, 5083, 62, 119, 14, 808, 46, 4, 3791, 136, 33, 4, 130, 121, 8748, 47, 6, 4427, 6508, 5, 32, 4, 954, 802, 5, 302, 36, 81, 8, 353, 5, 123, 89, 913, 26127, 109, 9, 7113, 46, 8748, 299, 35, 5320, 363, 2979, 11, 14, 8748, 15883, 17, 6, 2979, 1243, 208, 8748, 70, 1201, 740, 387, 584, 901, 8748, 9, 1254, 5, 427, 3226, 11, 14, 995, 217, 21, 37, 2263, 4, 147, 323, 9, 4, 893, 5, 1476, 3295, 82503, 11, 41, 227, 173, 11, 14, 11558, 652, 741, 23, 3295]),\n",
       "       list([1, 146, 24, 179, 252, 138, 21, 14, 20, 43, 152, 297, 4, 96, 12, 144, 12, 144, 30, 48055, 5, 253, 21, 305, 9, 43, 357, 13, 104, 6, 1058, 173, 7, 12, 9, 88, 36, 96, 120, 256, 4, 10113, 4, 154, 1072, 12, 9, 448, 23, 9, 76, 128, 10, 10, 342, 158])],\n",
       "      dtype=object)"
      ]
     },
     "execution_count": 4,
     "metadata": {},
     "output_type": "execute_result"
    }
   ],
   "source": [
    "idx = np.argwhere(y_train>0) # Select positive comment's index in training data\n",
    "np.random.seed(seed=100) # use seed to ensure selected records are always same\n",
    "np.random.shuffle(idx) #Shuffle it at random\n",
    "FRAC = 0.25\n",
    "idxs = idx[:int(len(idx)*FRAC)]\n",
    "y_trains = y_train[idxs]\n",
    "x_trains = x_train[idxs]\n",
    "\n",
    "# preserve negative cases\n",
    "idxn = np.argwhere(y_train==0)\n",
    "x_train0 = x_train[idxn]\n",
    "y_train0 = y_train[idxn]\n",
    "\n",
    "temp_idx = np.arange(0, len(idxs), 1)\n",
    "temp_idx_multi = np.tile(temp_idx, (1, 10)).T # shape is (31250, 1)\n",
    "np.random.seed(seed=200) # rerun from temp_idx_multi definition cell to ensure same result\n",
    "np.random.shuffle(temp_idx_multi)\n",
    "sample_idx = temp_idx_multi[:positive_sample_count].squeeze(1)\n",
    "x_train[sample_idx] # no point of using just the positive, since we are going by indeces anyway"
   ]
  },
  {
   "cell_type": "markdown",
   "id": "dcc14240",
   "metadata": {},
   "source": [
    "And now we process the data to have all the items (reviews) having the same number of tokens (words)."
   ]
  },
  {
   "cell_type": "code",
   "execution_count": 5,
   "id": "ee769e8d",
   "metadata": {},
   "outputs": [
    {
     "name": "stdout",
     "output_type": "stream",
     "text": [
      "(25000,)\n"
     ]
    }
   ],
   "source": [
    "x_trains_os = x_train[sample_idx] # again, we are using indeces\n",
    "y_trains_os = y_train[sample_idx]\n",
    "x_train_assembled = np.concatenate((x_train0, x_trains_os), axis = None)\n",
    "y_train_assembled = np.concatenate((y_train0, y_trains_os), axis = None)\n",
    "shuffled_idx = np.arange(0, len(y_train_assembled), 1)\n",
    "np.random.seed(seed=300)\n",
    "np.random.shuffle(shuffled_idx)\n",
    "print(shuffled_idx.shape)"
   ]
  },
  {
   "cell_type": "code",
   "execution_count": 6,
   "id": "8577492c",
   "metadata": {},
   "outputs": [
    {
     "data": {
      "text/plain": [
       "array([14841, 22400, 10026, ...,  5834,  6625, 17617])"
      ]
     },
     "execution_count": 6,
     "metadata": {},
     "output_type": "execute_result"
    }
   ],
   "source": [
    "shuffled_idx"
   ]
  },
  {
   "cell_type": "code",
   "execution_count": 7,
   "id": "09e47cfa",
   "metadata": {},
   "outputs": [
    {
     "name": "stdout",
     "output_type": "stream",
     "text": [
      "(25000,) (25000,)\n"
     ]
    }
   ],
   "source": [
    "x_train_assembled_shuffled = x_train_assembled[shuffled_idx]\n",
    "y_train_assembled_shuffled = y_train_assembled[shuffled_idx]\n",
    "print(x_train_assembled_shuffled.shape, y_train_assembled_shuffled.shape)"
   ]
  },
  {
   "cell_type": "code",
   "execution_count": 8,
   "id": "c0200a71",
   "metadata": {},
   "outputs": [],
   "source": [
    "word_index = tf.keras.datasets.imdb.get_word_index()\n",
    "word_index = {k:(v+3) for k,v in word_index.items()} \n",
    "word_index[\"<PAD>\"] = 0\n",
    "word_index[\"<START>\"] = 1\n",
    "word_index[\"<UNK>\"] = 2  # unknown\n",
    "word_index[\"<UNUSED>\"] = 3\n",
    "\n",
    "index_word = dict([(value, key) for (key, value) in word_index.items()])\n",
    "\n",
    "def decode_review(encoded_array):\n",
    "    return ' '.join([index_word.get(i, '?') for i in encoded_array])"
   ]
  },
  {
   "cell_type": "code",
   "execution_count": 9,
   "id": "aa5788f3",
   "metadata": {},
   "outputs": [],
   "source": [
    "train_data = tf.keras.preprocessing.sequence.pad_sequences(x_train_assembled_shuffled,\n",
    "                                                        value=word_index[\"<PAD>\"],\n",
    "                                                        padding='pre',\n",
    "                                                        maxlen=256)\n",
    "\n",
    "test_data = tf.keras.preprocessing.sequence.pad_sequences(x_test,\n",
    "                                                       value=word_index[\"<PAD>\"],\n",
    "                                                       padding='pre',\n",
    "                                                       maxlen=256)"
   ]
  },
  {
   "cell_type": "code",
   "execution_count": 10,
   "id": "2749b243",
   "metadata": {},
   "outputs": [
    {
     "data": {
      "text/plain": [
       "(25000, 256)"
      ]
     },
     "execution_count": 10,
     "metadata": {},
     "output_type": "execute_result"
    }
   ],
   "source": [
    "train_data.shape"
   ]
  },
  {
   "cell_type": "code",
   "execution_count": 11,
   "id": "edee3bc1",
   "metadata": {},
   "outputs": [
    {
     "data": {
      "text/plain": [
       "(25000, 256)"
      ]
     },
     "execution_count": 11,
     "metadata": {},
     "output_type": "execute_result"
    }
   ],
   "source": [
    "test_data.shape"
   ]
  }
 ],
 "metadata": {
  "kernelspec": {
   "display_name": "Python 3",
   "language": "python",
   "name": "python3"
  },
  "language_info": {
   "codemirror_mode": {
    "name": "ipython",
    "version": 3
   },
   "file_extension": ".py",
   "mimetype": "text/x-python",
   "name": "python",
   "nbconvert_exporter": "python",
   "pygments_lexer": "ipython3",
   "version": "3.8.10"
  },
  "toc": {
   "base_numbering": 1,
   "nav_menu": {},
   "number_sections": true,
   "sideBar": true,
   "skip_h1_title": false,
   "title_cell": "Table of Contents",
   "title_sidebar": "Contents",
   "toc_cell": true,
   "toc_position": {},
   "toc_section_display": true,
   "toc_window_display": false
  }
 },
 "nbformat": 4,
 "nbformat_minor": 5
}
