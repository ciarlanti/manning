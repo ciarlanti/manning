{
 "cells": [
  {
   "cell_type": "markdown",
   "id": "d47ebcde",
   "metadata": {
    "toc": true
   },
   "source": [
    "<h1>Table of Contents<span class=\"tocSkip\"></span></h1>\n",
    "<div class=\"toc\"><ul class=\"toc-item\"></ul></div>"
   ]
  },
  {
   "cell_type": "code",
   "execution_count": 1,
   "id": "793d724d",
   "metadata": {},
   "outputs": [],
   "source": [
    "from __future__ import absolute_import, division, print_function\n",
    "import os\n",
    "import numpy as np\n",
    "import matplotlib.pyplot as plt\n",
    "import tensorflow as tf"
   ]
  },
  {
   "cell_type": "code",
   "execution_count": 2,
   "id": "b9437ac1",
   "metadata": {},
   "outputs": [],
   "source": [
    "(x_train, y_train), (x_test, y_test) = tf.keras.datasets.imdb.load_data(\n",
    "    path='imdb.npz',\n",
    "    num_words=None,\n",
    "    skip_top=0,\n",
    "    maxlen=None,\n",
    "    seed=113,\n",
    "    start_char=1,\n",
    "    oov_char=2,\n",
    "    index_from=3\n",
    ")"
   ]
  },
  {
   "cell_type": "code",
   "execution_count": 3,
   "id": "1d1addf7",
   "metadata": {},
   "outputs": [],
   "source": [
    "unique, counts = np.unique(y_train, return_counts=True) # so that we could even skip knowing how many are present\n",
    "positive_sample_count = counts[1] # needed later"
   ]
  },
  {
   "cell_type": "code",
   "execution_count": 4,
   "id": "0234742a",
   "metadata": {},
   "outputs": [],
   "source": [
    "idx = np.argwhere(y_train>0) # Select positive comment's index in training data\n",
    "np.random.seed(seed=100) # use seed to ensure selected records are always same\n",
    "np.random.shuffle(idx) #Shuffle it at random"
   ]
  },
  {
   "cell_type": "code",
   "execution_count": 5,
   "id": "5c07d94e",
   "metadata": {},
   "outputs": [],
   "source": [
    "FRAC = 0.25\n",
    "idxs = idx[:int(len(idx)*FRAC)]\n",
    "y_trains = y_train[idxs]\n",
    "x_trains = x_train[idxs]\n",
    "\n",
    "# preserve negative cases\n",
    "idxn = np.argwhere(y_train==0)\n",
    "x_train0 = x_train[idxn]\n",
    "y_train0 = y_train[idxn]"
   ]
  },
  {
   "cell_type": "code",
   "execution_count": 6,
   "id": "827268b7",
   "metadata": {},
   "outputs": [],
   "source": [
    "temp_idx = np.arange(0, len(idxs), 1)"
   ]
  },
  {
   "cell_type": "code",
   "execution_count": 7,
   "id": "b27a549b",
   "metadata": {},
   "outputs": [],
   "source": [
    "temp_idx_multi = np.tile(temp_idx, (1, 10)).T # as suggested (I did 5 and gone with it)\n",
    "np.random.seed(seed=200) # rerun from temp_idx_multi definition cell to ensure same result (I personally do not see the point)\n",
    "np.random.shuffle(temp_idx_multi)"
   ]
  },
  {
   "cell_type": "code",
   "execution_count": 8,
   "id": "c7e07a26",
   "metadata": {},
   "outputs": [],
   "source": [
    "sample_idx = temp_idx_multi[:positive_sample_count].squeeze(1)"
   ]
  },
  {
   "cell_type": "markdown",
   "id": "f3fcd5bd",
   "metadata": {},
   "source": [
    "As requested, we check how many items we have"
   ]
  },
  {
   "cell_type": "code",
   "execution_count": 9,
   "id": "177c58c6",
   "metadata": {},
   "outputs": [
    {
     "data": {
      "text/plain": [
       "12500"
      ]
     },
     "execution_count": 9,
     "metadata": {},
     "output_type": "execute_result"
    }
   ],
   "source": [
    "len(sample_idx)"
   ]
  },
  {
   "cell_type": "markdown",
   "id": "7b92a2bc",
   "metadata": {},
   "source": [
    "Now that we know we have enough, we get `x_train1` and `y_train1`"
   ]
  },
  {
   "cell_type": "code",
   "execution_count": 10,
   "id": "ba405365",
   "metadata": {},
   "outputs": [],
   "source": [
    "x_train1 = x_train[sample_idx]\n",
    "y_train1 = y_train[sample_idx]"
   ]
  },
  {
   "cell_type": "code",
   "execution_count": 11,
   "id": "b9622abb",
   "metadata": {},
   "outputs": [
    {
     "data": {
      "text/plain": [
       "12500"
      ]
     },
     "execution_count": 11,
     "metadata": {},
     "output_type": "execute_result"
    }
   ],
   "source": [
    "len(x_train1)"
   ]
  },
  {
   "cell_type": "code",
   "execution_count": null,
   "id": "43b63cbe",
   "metadata": {},
   "outputs": [],
   "source": []
  }
 ],
 "metadata": {
  "kernelspec": {
   "display_name": "Python 3",
   "language": "python",
   "name": "python3"
  },
  "language_info": {
   "codemirror_mode": {
    "name": "ipython",
    "version": 3
   },
   "file_extension": ".py",
   "mimetype": "text/x-python",
   "name": "python",
   "nbconvert_exporter": "python",
   "pygments_lexer": "ipython3",
   "version": "3.8.10"
  },
  "toc": {
   "base_numbering": 1,
   "nav_menu": {},
   "number_sections": true,
   "sideBar": true,
   "skip_h1_title": false,
   "title_cell": "Table of Contents",
   "title_sidebar": "Contents",
   "toc_cell": true,
   "toc_position": {},
   "toc_section_display": true,
   "toc_window_display": false
  }
 },
 "nbformat": 4,
 "nbformat_minor": 5
}
