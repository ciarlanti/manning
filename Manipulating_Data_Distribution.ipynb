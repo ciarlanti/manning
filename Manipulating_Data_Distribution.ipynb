{
 "cells": [
  {
   "cell_type": "markdown",
   "id": "b27fb83f",
   "metadata": {
    "toc": true
   },
   "source": [
    "<h1>Table of Contents<span class=\"tocSkip\"></span></h1>\n",
    "<div class=\"toc\"><ul class=\"toc-item\"></ul></div>"
   ]
  },
  {
   "cell_type": "code",
   "execution_count": 1,
   "id": "599d27c4",
   "metadata": {},
   "outputs": [],
   "source": [
    "from __future__ import absolute_import, division, print_function\n",
    "import os\n",
    "import numpy as np\n",
    "import matplotlib.pyplot as plt\n",
    "import tensorflow as tf"
   ]
  },
  {
   "cell_type": "code",
   "execution_count": 2,
   "id": "9c827430",
   "metadata": {},
   "outputs": [],
   "source": [
    "(x_train, y_train), (x_test, y_test) = tf.keras.datasets.imdb.load_data(\n",
    "    path='imdb.npz',\n",
    "    num_words=None,\n",
    "    skip_top=0,\n",
    "    maxlen=None,\n",
    "    seed=113,\n",
    "    start_char=1,\n",
    "    oov_char=2,\n",
    "    index_from=3\n",
    ")"
   ]
  },
  {
   "cell_type": "code",
   "execution_count": 3,
   "id": "04f8f880",
   "metadata": {},
   "outputs": [],
   "source": [
    "unique, counts = np.unique(y_train, return_counts=True)"
   ]
  },
  {
   "cell_type": "code",
   "execution_count": 4,
   "id": "1ba72376",
   "metadata": {},
   "outputs": [
    {
     "name": "stdout",
     "output_type": "stream",
     "text": [
      "[[    0     1]\n",
      " [12500 12500]]\n"
     ]
    }
   ],
   "source": [
    "print(np.asarray((unique, counts)))"
   ]
  },
  {
   "cell_type": "code",
   "execution_count": 5,
   "id": "e524dbba",
   "metadata": {},
   "outputs": [],
   "source": [
    "idx = np.argwhere(y_train>0) # Select positive comment's index in training data\n",
    "np.random.seed(seed=100) # use seed to ensure selected records are always same\n",
    "np.random.shuffle(idx) #Shuffle it at random"
   ]
  },
  {
   "cell_type": "markdown",
   "id": "79c5d272",
   "metadata": {},
   "source": [
    "The instruction for this assignment say: `Your idx may look like this`, but if I am using `seed=100` it should look exactly like the following, I myself would change the textual part, to have it sound less like a lottery."
   ]
  },
  {
   "cell_type": "code",
   "execution_count": 6,
   "id": "b9987d6e",
   "metadata": {},
   "outputs": [
    {
     "data": {
      "text/plain": [
       "array([[  581],\n",
       "       [  433],\n",
       "       [ 8960],\n",
       "       ...,\n",
       "       [16030],\n",
       "       [13730],\n",
       "       [11208]])"
      ]
     },
     "execution_count": 6,
     "metadata": {},
     "output_type": "execute_result"
    }
   ],
   "source": [
    "idx"
   ]
  },
  {
   "cell_type": "code",
   "execution_count": 7,
   "id": "2a95eaee",
   "metadata": {},
   "outputs": [],
   "source": [
    "FRAC = 0.25\n",
    "idxs = idx[:int(len(idx)*FRAC)]"
   ]
  },
  {
   "cell_type": "markdown",
   "id": "8b30074a",
   "metadata": {},
   "source": [
    "This is not required, I add it simply to check the actual number of items in the array"
   ]
  },
  {
   "cell_type": "code",
   "execution_count": 8,
   "id": "a8b67fce",
   "metadata": {},
   "outputs": [
    {
     "data": {
      "text/plain": [
       "3125"
      ]
     },
     "execution_count": 8,
     "metadata": {},
     "output_type": "execute_result"
    }
   ],
   "source": [
    "len(idxs)"
   ]
  }
 ],
 "metadata": {
  "kernelspec": {
   "display_name": "Python 3",
   "language": "python",
   "name": "python3"
  },
  "language_info": {
   "codemirror_mode": {
    "name": "ipython",
    "version": 3
   },
   "file_extension": ".py",
   "mimetype": "text/x-python",
   "name": "python",
   "nbconvert_exporter": "python",
   "pygments_lexer": "ipython3",
   "version": "3.8.10"
  },
  "toc": {
   "base_numbering": 1,
   "nav_menu": {},
   "number_sections": true,
   "sideBar": true,
   "skip_h1_title": false,
   "title_cell": "Table of Contents",
   "title_sidebar": "Contents",
   "toc_cell": true,
   "toc_position": {},
   "toc_section_display": true,
   "toc_window_display": false
  }
 },
 "nbformat": 4,
 "nbformat_minor": 5
}
