{
 "cells": [
  {
   "cell_type": "markdown",
   "id": "dae22993",
   "metadata": {
    "toc": true
   },
   "source": [
    "<h1>Table of Contents<span class=\"tocSkip\"></span></h1>\n",
    "<div class=\"toc\"><ul class=\"toc-item\"><li><span><a href=\"#Decoding-data-to-plain-text\" data-toc-modified-id=\"Decoding-data-to-plain-text-1\"><span class=\"toc-item-num\">1&nbsp;&nbsp;</span>Decoding data to plain text</a></span></li><li><span><a href=\"#Steps-requested\" data-toc-modified-id=\"Steps-requested-2\"><span class=\"toc-item-num\">2&nbsp;&nbsp;</span>Steps requested</a></span></li></ul></div>"
   ]
  },
  {
   "cell_type": "markdown",
   "id": "8266c58d",
   "metadata": {},
   "source": [
    "# Decoding data to plain text"
   ]
  },
  {
   "cell_type": "code",
   "execution_count": 1,
   "id": "c579b0e3",
   "metadata": {},
   "outputs": [],
   "source": [
    "from __future__ import absolute_import, division, print_function\n",
    "import os\n",
    "import numpy as np\n",
    "import matplotlib.pyplot as plt\n",
    "import tensorflow as tf"
   ]
  },
  {
   "cell_type": "code",
   "execution_count": 2,
   "id": "e1948e68",
   "metadata": {},
   "outputs": [],
   "source": [
    "(x_train, y_train), (x_test, y_test) = tf.keras.datasets.imdb.load_data(\n",
    "    path='imdb.npz',\n",
    "    num_words=None,\n",
    "    skip_top=0,\n",
    "    maxlen=None,\n",
    "    seed=113,\n",
    "    start_char=1,\n",
    "    oov_char=2,\n",
    "    index_from=3\n",
    ")\n",
    "\n",
    "word_index = tf.keras.datasets.imdb.get_word_index()"
   ]
  },
  {
   "cell_type": "code",
   "execution_count": 3,
   "id": "8c7ccec7",
   "metadata": {},
   "outputs": [
    {
     "data": {
      "text/plain": [
       "numpy.ndarray"
      ]
     },
     "execution_count": 3,
     "metadata": {},
     "output_type": "execute_result"
    }
   ],
   "source": [
    "type(x_train)"
   ]
  },
  {
   "cell_type": "code",
   "execution_count": 4,
   "id": "0c6a3ad0",
   "metadata": {},
   "outputs": [
    {
     "data": {
      "text/plain": [
       "(25000,)"
      ]
     },
     "execution_count": 4,
     "metadata": {},
     "output_type": "execute_result"
    }
   ],
   "source": [
    "x_train.shape"
   ]
  },
  {
   "cell_type": "code",
   "execution_count": 5,
   "id": "c26e7a19",
   "metadata": {},
   "outputs": [],
   "source": [
    "word_index = {k:(v+3) for k,v in word_index.items()} \n",
    "word_index[\"<PAD>\"] = 0\n",
    "word_index[\"<START>\"] = 1\n",
    "word_index[\"<UNK>\"] = 2  # unknown\n",
    "word_index[\"<UNUSED>\"] = 3\n",
    "\n",
    "index_word = dict([(value, key) for (key, value) in word_index.items()])"
   ]
  },
  {
   "cell_type": "code",
   "execution_count": 6,
   "id": "8b5783e0",
   "metadata": {},
   "outputs": [],
   "source": [
    "def decode_review(encoded_array):\n",
    "    return ' '.join([index_word.get(i, '?') for i in encoded_array])"
   ]
  },
  {
   "cell_type": "markdown",
   "id": "e22fe9ac",
   "metadata": {},
   "source": [
    "This is the way I would have myself done the extraction, in the next section I am going to do it as it is requested."
   ]
  },
  {
   "cell_type": "code",
   "execution_count": 7,
   "id": "51b05c94",
   "metadata": {},
   "outputs": [],
   "source": [
    "negative_reviews = [decode_review(x)for y,x in zip(y_train,x_train) if y == 0]"
   ]
  },
  {
   "cell_type": "code",
   "execution_count": 8,
   "id": "db704b47",
   "metadata": {},
   "outputs": [],
   "source": [
    "positive_reviews = [decode_review(x)for y,x in zip(y_train,x_train) if y == 1]"
   ]
  },
  {
   "cell_type": "markdown",
   "id": "32635aaa",
   "metadata": {},
   "source": [
    "This is an example of a **negative review** present in the corpus"
   ]
  },
  {
   "cell_type": "code",
   "execution_count": 9,
   "id": "303a4b70",
   "metadata": {},
   "outputs": [
    {
     "data": {
      "text/plain": [
       "\"<START> as a big fan of the original film it's hard to watch this show the garish set decor and harshly lighted sets rob any style from this remake the mood is never there instead it has the look and feel of so many television movies of the seventies crenna is not a bad choice as walter neff but his snappy wardrobe and swank apartment don't fit the mood of the original or make him an interesting character he does his best to make it work but samantha egger is a really bad choice the english accent and california looks can't hold a candle to barbara stanwick's velvet voice and sex appeal lee j cobb tries mightily to fashion barton keyes but even his performance is just gruff without style br br it feels like the tv movie it was and again reminds me of what a remarkable film the original still is\""
      ]
     },
     "execution_count": 9,
     "metadata": {},
     "output_type": "execute_result"
    }
   ],
   "source": [
    "negative_reviews[-1]"
   ]
  },
  {
   "cell_type": "markdown",
   "id": "ff6b111b",
   "metadata": {},
   "source": [
    "This is an example of a **positive review** present in the corpus"
   ]
  },
  {
   "cell_type": "code",
   "execution_count": 10,
   "id": "11f3fd99",
   "metadata": {},
   "outputs": [
    {
     "data": {
      "text/plain": [
       "\"<START> six degrees had me hooked i looked forward to it coming on and was totally disappointed when men in trees replaced it's time spot i thought it was just on hiatus and would be back early in 2007 what happened all my friends were really surprised it ended we could relate to the characters who had real problems we talked about each episode and had our favorite characters there wasn't anybody on the show i didn't like and felt the acting was superb i alway like seeing programs being taped in cities where you can identify the local areas i for one would like to protest the canceling of this show and ask you to bring it back and give it another chance give it a good time slot don't keep moving it from this day to that day and advertise it so people will know it is on\""
      ]
     },
     "execution_count": 10,
     "metadata": {},
     "output_type": "execute_result"
    }
   ],
   "source": [
    "positive_reviews[-1]"
   ]
  },
  {
   "cell_type": "markdown",
   "id": "fb8c3fdc",
   "metadata": {},
   "source": [
    "The assignment talks about positions, and being called `*_index`  I assume it is the index of the list, that can be done in the following way"
   ]
  },
  {
   "cell_type": "code",
   "execution_count": 11,
   "id": "fe032982",
   "metadata": {},
   "outputs": [
    {
     "data": {
      "text/plain": [
       "10"
      ]
     },
     "execution_count": 11,
     "metadata": {},
     "output_type": "execute_result"
    }
   ],
   "source": [
    "positive_index = [i for i,s in enumerate(y_train) if s == 1]\n",
    "negative_index = [i for i,s in enumerate(y_train) if s == 0]\n",
    "positive_index[4]"
   ]
  },
  {
   "cell_type": "code",
   "execution_count": 12,
   "id": "b5943fd3",
   "metadata": {},
   "outputs": [
    {
     "data": {
      "text/plain": [
       "7"
      ]
     },
     "execution_count": 12,
     "metadata": {},
     "output_type": "execute_result"
    }
   ],
   "source": [
    "negative_index[4]"
   ]
  },
  {
   "cell_type": "markdown",
   "id": "9dd045f7",
   "metadata": {},
   "source": [
    "# Steps requested\n"
   ]
  },
  {
   "cell_type": "markdown",
   "id": "b28b8fee",
   "metadata": {},
   "source": [
    "Even though I have fulfilled the requirements (in a way that I find more language-oriented and cleaner), I am extracting the same information as requested"
   ]
  },
  {
   "cell_type": "code",
   "execution_count": 13,
   "id": "e450187f",
   "metadata": {},
   "outputs": [
    {
     "data": {
      "text/plain": [
       "24998"
      ]
     },
     "execution_count": 13,
     "metadata": {},
     "output_type": "execute_result"
    }
   ],
   "source": [
    "negative_index = np.where(y_train == 0)[0]\n",
    "positive_index = np.where(y_train == 1)[0]\n",
    "positive_index[-1]"
   ]
  },
  {
   "cell_type": "code",
   "execution_count": 14,
   "id": "3f615495",
   "metadata": {},
   "outputs": [
    {
     "data": {
      "text/plain": [
       "24999"
      ]
     },
     "execution_count": 14,
     "metadata": {},
     "output_type": "execute_result"
    }
   ],
   "source": [
    "negative_index[-1]"
   ]
  },
  {
   "cell_type": "code",
   "execution_count": 15,
   "id": "dfc912b8",
   "metadata": {},
   "outputs": [],
   "source": [
    "positive_example = decode_review(x_train[positive_index[4]])\n",
    "negative_example = decode_review(x_train[negative_index[4]])"
   ]
  },
  {
   "cell_type": "markdown",
   "id": "70f4cfb4",
   "metadata": {},
   "source": [
    "one example of a **positive review**"
   ]
  },
  {
   "cell_type": "code",
   "execution_count": 16,
   "id": "c48915a7",
   "metadata": {},
   "outputs": [
    {
     "data": {
      "text/plain": [
       "\"<START> french horror cinema has seen something of a revival over the last couple of years with great films such as inside and switchblade romance bursting on to the scene maléfique preceded the revival just slightly but stands head and shoulders over most modern horror titles and is surely one of the best french horror films ever made maléfique was obviously shot on a low budget but this is made up for in far more ways than one by the originality of the film and this in turn is complimented by the excellent writing and acting that ensure the film is a winner the plot focuses on two main ideas prison and black magic the central character is a man named carrère sent to prison for fraud he is put in a cell with three others the quietly insane lassalle body building transvestite marcus and his retarded boyfriend daisy after a short while in the cell together they stumble upon a hiding place in the wall that contains an old journal after translating part of it they soon realise its magical powers and realise they may be able to use it to break through the prison walls br br black magic is a very interesting topic and i'm actually quite surprised that there aren't more films based on it as there's so much scope for things to do with it it's fair to say that maléfique makes the best of it's assets as despite it's restraints the film never actually feels restrained and manages to flow well throughout director eric valette provides a great atmosphere for the film the fact that most of it takes place inside the central prison cell ensures that the film feels very claustrophobic and this immensely benefits the central idea of the prisoners wanting to use magic to break out of the cell it's very easy to get behind them it's often said that the unknown is the thing that really frightens people and this film proves that as the director ensures that we can never really be sure of exactly what is round the corner and this helps to ensure that maléfique actually does manage to be quite frightening the film is memorable for a lot of reasons outside the central plot the characters are all very interesting in their own way and the fact that the book itself almost takes on its own character is very well done anyone worried that the film won't deliver by the end won't be disappointed either as the ending both makes sense and manages to be quite horrifying overall maléfique is a truly great horror film and one of the best of the decade highly recommended viewing\""
      ]
     },
     "execution_count": 16,
     "metadata": {},
     "output_type": "execute_result"
    }
   ],
   "source": [
    "positive_example"
   ]
  },
  {
   "cell_type": "markdown",
   "id": "678125d6",
   "metadata": {},
   "source": [
    "one example of a **negative reviews**"
   ]
  },
  {
   "cell_type": "code",
   "execution_count": 17,
   "id": "f90339f8",
   "metadata": {},
   "outputs": [
    {
     "data": {
      "text/plain": [
       "\"<START> the hamiltons tells the story of the four hamilton siblings teenager francis cory knauf twins wendell joseph mckelheer darlene mackenzie firgens the eldest david samuel who is now the surrogate parent in charge the hamilton's move house a lot franics is unsure why is unhappy with the way things are the fact that his brother's sister kidnap imprison murder people in the basement doesn't help relax or calm francis' nerves either francis know's something just isn't right when he eventually finds out the truth things will never be the same again br br co written co produced directed by mitchell altieri phil flores as the butcher brothers who's only other film director's credit so far is the april fool's day 2008 remake enough said this was one of the 'films to die for' at the 2006 after dark horrorfest or whatever it's called in keeping with pretty much all the other's i've seen i thought the hamiltons was complete total utter crap i found the character's really poor very unlikable the slow moving story failed to capture my imagination or sustain my interest over it's 85 a half minute too long 86 minute duration the there's the awful twist at the end which had me laughing out loud there's this really big sustained build up to what's inside a cupboard thing in the hamiltons basement it's eventually revealed to be a little boy with a teddy is that really supposed to scare us is that really supposed to shock us is that really something that is supposed to have us talking about it as the end credits roll is a harmless looking young boy the best 'twist' ending that the makers could come up with the boring plot plods along it's never made clear where the hamiltons get all their money from to buy new houses since none of them seem to work except david in a slaughterhouse i doubt that pays much or why they haven't been caught before now the script tries to mix in every day drama with potent horror it just does a terrible job of combining the two to the extent that neither aspect is memorable or effective a really bad film that i am struggling to say anything good about br br despite being written directed by the extreme sounding butcher brothers there's no gore here there's a bit of blood splatter a few scenes of girls chained up in a basement but nothing you couldn't do at home yourself with a bottle of tomato ketchup a camcorder the film is neither scary since it's got a very middle class suburban setting there's zero atmosphere or mood there's a lesbian suggest incestuous kiss but the hamiltons is low on the exploitation scale there's not much here for the horror crowd br br filmed in petaluma in california this has that modern low budget look about it it's not badly made but rather forgettable the acting by an unknown to me cast is nothing to write home about i can't say i ever felt anything for anyone br br the hamiltons commits the cardinal sin of being both dull boring from which it never recovers add to that an ultra thin story no gore a rubbish ending character's who you don't give a toss about you have a film that did not impress me at all\""
      ]
     },
     "execution_count": 17,
     "metadata": {},
     "output_type": "execute_result"
    }
   ],
   "source": [
    "negative_example"
   ]
  }
 ],
 "metadata": {
  "kernelspec": {
   "display_name": "Python 3",
   "language": "python",
   "name": "python3"
  },
  "language_info": {
   "codemirror_mode": {
    "name": "ipython",
    "version": 3
   },
   "file_extension": ".py",
   "mimetype": "text/x-python",
   "name": "python",
   "nbconvert_exporter": "python",
   "pygments_lexer": "ipython3",
   "version": "3.8.10"
  },
  "toc": {
   "base_numbering": 1,
   "nav_menu": {},
   "number_sections": true,
   "sideBar": true,
   "skip_h1_title": false,
   "title_cell": "Table of Contents",
   "title_sidebar": "Contents",
   "toc_cell": true,
   "toc_position": {},
   "toc_section_display": true,
   "toc_window_display": false
  }
 },
 "nbformat": 4,
 "nbformat_minor": 5
}
